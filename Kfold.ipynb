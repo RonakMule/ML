{
 "cells": [
  {
   "metadata": {},
   "cell_type": "markdown",
   "source": [
    "**K-Fold Cross Method**\n",
    "\n",
    "as the test and train method is refreshed then the trained models accuracy changes as well thats why we use *K-Fold Cross method*"
   ],
   "id": "35937c7db769a6dd"
  },
  {
   "metadata": {
    "collapsed": true,
    "ExecuteTime": {
     "end_time": "2025-02-09T09:20:05.982414Z",
     "start_time": "2025-02-09T09:20:01.366913Z"
    }
   },
   "cell_type": "code",
   "source": [
    "import pandas as pd\n",
    "from sklearn.datasets import load_digits\n",
    "\n",
    "from sklearn.ensemble import RandomForestClassifier\n",
    "from sklearn.svm import SVC\n",
    "from sklearn.linear_model import LogisticRegression\n",
    "\n",
    "digits = load_digits()"
   ],
   "id": "initial_id",
   "outputs": [],
   "execution_count": 1
  },
  {
   "metadata": {
    "ExecuteTime": {
     "end_time": "2025-02-09T09:20:06.022859Z",
     "start_time": "2025-02-09T09:20:06.009052Z"
    }
   },
   "cell_type": "code",
   "source": "dir(digits)",
   "id": "d8eacf3f5f6caf24",
   "outputs": [
    {
     "data": {
      "text/plain": [
       "['DESCR', 'data', 'feature_names', 'frame', 'images', 'target', 'target_names']"
      ]
     },
     "execution_count": 2,
     "metadata": {},
     "output_type": "execute_result"
    }
   ],
   "execution_count": 2
  },
  {
   "metadata": {
    "ExecuteTime": {
     "end_time": "2025-02-09T09:20:06.075693Z",
     "start_time": "2025-02-09T09:20:06.066757Z"
    }
   },
   "cell_type": "code",
   "source": [
    "from sklearn.model_selection import KFold\n",
    "kf = KFold(n_splits=3)\n",
    "kf"
   ],
   "id": "e7b165983dec09bd",
   "outputs": [
    {
     "data": {
      "text/plain": [
       "KFold(n_splits=3, random_state=None, shuffle=False)"
      ]
     },
     "execution_count": 3,
     "metadata": {},
     "output_type": "execute_result"
    }
   ],
   "execution_count": 3
  },
  {
   "metadata": {
    "ExecuteTime": {
     "end_time": "2025-02-09T09:20:06.925236Z",
     "start_time": "2025-02-09T09:20:06.913783Z"
    }
   },
   "cell_type": "code",
   "source": [
    "for train_index, test_index in kf.split([1,2,3,4,5,6,7,8,9]):\n",
    "    print(train_index, test_index)"
   ],
   "id": "d643d97ff3aebb73",
   "outputs": [
    {
     "name": "stdout",
     "output_type": "stream",
     "text": [
      "[3 4 5 6 7 8] [0 1 2]\n",
      "[0 1 2 6 7 8] [3 4 5]\n",
      "[0 1 2 3 4 5] [6 7 8]\n"
     ]
    }
   ],
   "execution_count": 4
  },
  {
   "metadata": {
    "ExecuteTime": {
     "end_time": "2025-02-09T09:20:07.040187Z",
     "start_time": "2025-02-09T09:20:07.030728Z"
    }
   },
   "cell_type": "code",
   "source": [
    "from sklearn.model_selection import StratifiedKFold\n",
    "ksf = StratifiedKFold(n_splits=3)\n",
    "ksf"
   ],
   "id": "b389497b3554a510",
   "outputs": [
    {
     "data": {
      "text/plain": [
       "StratifiedKFold(n_splits=3, random_state=None, shuffle=False)"
      ]
     },
     "execution_count": 5,
     "metadata": {},
     "output_type": "execute_result"
    }
   ],
   "execution_count": 5
  },
  {
   "metadata": {
    "ExecuteTime": {
     "end_time": "2025-02-09T09:20:07.097990Z",
     "start_time": "2025-02-09T09:20:07.091430Z"
    }
   },
   "cell_type": "code",
   "source": [
    "def get_score(model, X_train, X_test, y_train, y_test):\n",
    "    model.fit(X_train, y_train)\n",
    "    return model.score(X_test, y_test)"
   ],
   "id": "6de5c63b38713d51",
   "outputs": [],
   "execution_count": 6
  },
  {
   "metadata": {
    "ExecuteTime": {
     "end_time": "2025-02-09T09:24:24.042092Z",
     "start_time": "2025-02-09T09:24:22.451975Z"
    }
   },
   "cell_type": "code",
   "source": [
    "scores_l = []\n",
    "scores_svm = []\n",
    "scores_rf = []\n",
    "\n",
    "for train_index, test_index in kf.split(digits.data):\n",
    "    X_train,X_test,y_train,y_test = digits.data[train_index],digits.data[test_index],digits.target[train_index],digits.target[test_index]\n",
    "\n",
    "    scores_l.append(get_score(LogisticRegression(max_iter=500), X_train, X_test, y_train, y_test))\n",
    "    scores_svm.append(get_score(SVC(), X_train, X_test, y_train, y_test))\n",
    "    scores_rf.append(get_score(RandomForestClassifier(n_estimators=40), X_train, X_test, y_train, y_test))"
   ],
   "id": "32654f985d1735e5",
   "outputs": [],
   "execution_count": 9
  },
  {
   "metadata": {
    "ExecuteTime": {
     "end_time": "2025-02-09T09:25:00.470479Z",
     "start_time": "2025-02-09T09:25:00.463102Z"
    }
   },
   "cell_type": "code",
   "source": [
    "print('scores_l:', scores_l)\n",
    "print('scores_svm:', scores_svm)\n",
    "print('scores_rf:', scores_rf)"
   ],
   "id": "4f0934e99b145362",
   "outputs": [
    {
     "name": "stdout",
     "output_type": "stream",
     "text": [
      "scores_l: [0.9248747913188647, 0.9432387312186978, 0.9148580968280468]\n",
      "scores_svm: [0.9666110183639399, 0.9816360601001669, 0.9549248747913188]\n",
      "scores_rf: [0.9332220367278798, 0.9499165275459098, 0.9215358931552587]\n"
     ]
    }
   ],
   "execution_count": 16
  },
  {
   "metadata": {
    "ExecuteTime": {
     "end_time": "2025-02-09T09:24:32.198307Z",
     "start_time": "2025-02-09T09:24:32.194252Z"
    }
   },
   "cell_type": "code",
   "source": "",
   "id": "d9a2cbb4cdda6113",
   "outputs": [],
   "execution_count": null
  },
  {
   "metadata": {},
   "cell_type": "code",
   "outputs": [],
   "execution_count": null,
   "source": "",
   "id": "3b156581da98c9ed"
  }
 ],
 "metadata": {
  "kernelspec": {
   "display_name": "Python 3",
   "language": "python",
   "name": "python3"
  },
  "language_info": {
   "codemirror_mode": {
    "name": "ipython",
    "version": 2
   },
   "file_extension": ".py",
   "mimetype": "text/x-python",
   "name": "python",
   "nbconvert_exporter": "python",
   "pygments_lexer": "ipython2",
   "version": "2.7.6"
  }
 },
 "nbformat": 4,
 "nbformat_minor": 5
}
